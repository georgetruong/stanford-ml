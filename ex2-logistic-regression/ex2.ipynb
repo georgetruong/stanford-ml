{
 "cells": [
  {
   "cell_type": "markdown",
   "metadata": {},
   "source": [
    "# Excercise 2 - Logistic Regression"
   ]
  },
  {
   "cell_type": "code",
   "execution_count": 75,
   "metadata": {},
   "outputs": [],
   "source": [
    "import numpy as np\n",
    "from scipy import linalg\n",
    "\n",
    "import matplotlib.pyplot as plt\n",
    "from pylab import rcParams\n",
    "\n",
    "%matplotlib inline\n",
    "rcParams['figure.figsize'] = 6,5"
   ]
  },
  {
   "cell_type": "code",
   "execution_count": 76,
   "metadata": {},
   "outputs": [],
   "source": [
    "# Load data from file\n",
    "data = np.loadtxt('ex2data1.txt', delimiter=',')\n",
    "X = data[:, 0:2]\n",
    "y = data[:, 2]\n",
    "\n",
    "# Get sample and feature size\n",
    "m, n = X.shape\n",
    "\n",
    "# Reshape matrices\n",
    "X = X.reshape((m, 2))\n",
    "y = y.reshape((m, 1))"
   ]
  },
  {
   "cell_type": "markdown",
   "metadata": {},
   "source": [
    "Plot scatterplot of data"
   ]
  },
  {
   "cell_type": "code",
   "execution_count": 77,
   "metadata": {},
   "outputs": [
    {
     "data": {
      "text/plain": [
       "<matplotlib.legend.Legend at 0x198610af670>"
      ]
     },
     "execution_count": 77,
     "metadata": {},
     "output_type": "execute_result"
    },
    {
     "data": {
      "image/png": "[encoded data removed]",
      "text/plain": [
       "<Figure size 720x576 with 1 Axes>"
      ]
     },
     "metadata": {
      "needs_background": "light"
     },
     "output_type": "display_data"
    }
   ],
   "source": [
    "# Find all data points with positive and negative results respectively\n",
    "pos = np.nonzero(y == 1)\n",
    "neg = np.nonzero(y == 0)\n",
    "\n",
    "# Plot data\n",
    "fig, ax = plt.subplots(figsize=(10, 8))\n",
    "ax.scatter(X[pos, 0], X[pos, 1], marker='x', color='black', label='Admitted')\n",
    "ax.scatter(X[neg, 0], X[neg, 1], marker='o', color='red', label='Not admitted')\n",
    "ax.set_xlabel('Exam 1 score')\n",
    "ax.set_ylabel('Exam 2 score')\n",
    "ax.legend()"
   ]
  },
  {
   "cell_type": "markdown",
   "metadata": {},
   "source": [
    "Compute cost and gradient"
   ]
  },
  {
   "cell_type": "code",
   "execution_count": 78,
   "metadata": {},
   "outputs": [
    {
     "data": {
      "text/plain": [
       "array([[5.00000000e-01],\n",
       "       [7.31058579e-01],\n",
       "       [2.68941421e-01],\n",
       "       [9.99954602e-01],\n",
       "       [4.53978687e-05]])"
      ]
     },
     "execution_count": 78,
     "metadata": {},
     "output_type": "execute_result"
    }
   ],
   "source": [
    "def sigmoid(z):\n",
    "    return 1.0 / ( 1 + np.e ** (-1.0 * z))\n",
    "\n",
    "# Test function with some values\n",
    "test = np.array([[0], [1], [-1], [10], [-10]])\n",
    "sigmoid(test)\n"
   ]
  },
  {
   "cell_type": "code",
   "execution_count": 79,
   "metadata": {},
   "outputs": [],
   "source": [
    "def cost_function(theta, X, y):\n",
    "    m, n = X.shape\n",
    "    grad = np.zeros(theta.size)\n",
    "\n",
    "    z = X @ theta\n",
    "    h = sigmoid(z)\n",
    "\n",
    "    J = (1/m) * sum(-y * np.log(h) - (1-y) * np.log(1-h))\n",
    "\n",
    "    for i in range(n):\n",
    "        col = X[:, i].reshape((m, 1))\n",
    "        grad[i] = (1/m) * np.sum((h-y) * col)\n",
    "\n",
    "    return J, grad"
   ]
  },
  {
   "cell_type": "code",
   "execution_count": 80,
   "metadata": {},
   "outputs": [
    {
     "name": "stdout",
     "output_type": "stream",
     "text": [
      "Cost at initial theta (zeros): 0.693147\n",
      "Expected cost (approx): 0.693\n",
      "Gradient at initial theta (zeros):\n",
      "[ -0.1        -12.00921659 -11.26284221]\n",
      "Expected gradients (approx):\n",
      " -0.1000\n",
      " -12.0092\n",
      " -11.2628\n",
      "[ -0.1        -12.00921659 -11.26284221]\n"
     ]
    }
   ],
   "source": [
    "# Add intercept term to X\n",
    "X = np.hstack((np.ones((m, 1)), X))\n",
    "\n",
    "# Initialize fitting parameters\n",
    "initial_theta = np.zeros((n + 1, 1))\n",
    "\n",
    "# Compute and display initial cost and gradient\n",
    "cost, grad = cost_function(initial_theta, X, y)\n",
    "\n",
    "print('Cost at initial theta (zeros): %f' % cost)\n",
    "print('Expected cost (approx): 0.693')\n",
    "print('Gradient at initial theta (zeros):')\n",
    "print(grad)\n",
    "print('Expected gradients (approx):\\n -0.1000\\n -12.0092\\n -11.2628')"
   ]
  },
  {
   "cell_type": "code",
   "execution_count": null,
   "metadata": {},
   "outputs": [],
   "source": [
    "# Compute and display cost and gradient with non-zero theta\n",
    "test_theta = np.array([[-24], [0.2], [0.2]])\n",
    "\n",
    "cost, grad = cost_function(test_theta, X, y)\n",
    "print('Cost at initial theta (zeros): %f' % cost)\n",
    "print('Expected cost (approx): 0.218')\n",
    "print('Gradient at initial theta (zeros):')\n",
    "print(grad)\n",
    "print('Expected gradients (approx):\\n -0.043\\n 2.566\\n 2.647')"
   ]
  }
 ],
 "metadata": {
  "interpreter": {
   "hash": "8c3ad042ee7508524fa8f56507c413b7177680a99c3e0f53cc4374ec571bb643"
  },
  "kernelspec": {
   "display_name": "Python 3.10.4 64-bit",
   "language": "python",
   "name": "python3"
  },
  "language_info": {
   "codemirror_mode": {
    "name": "ipython",
    "version": 3
   },
   "file_extension": ".py",
   "mimetype": "text/x-python",
   "name": "python",
   "nbconvert_exporter": "python",
   "pygments_lexer": "ipython3",
   "version": "3.10.4"
  },
  "orig_nbformat": 4
 },
 "nbformat": 4,
 "nbformat_minor": 2
}
