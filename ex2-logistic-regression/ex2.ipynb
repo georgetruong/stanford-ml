{
 "cells": [
  {
   "cell_type": "markdown",
   "metadata": {},
   "source": [
    "Excercise 2 - Logistic Regression"
   ]
  },
  {
   "cell_type": "code",
   "execution_count": 10,
   "metadata": {},
   "outputs": [],
   "source": [
    "import numpy as np\n",
    "import pandas as pd\n",
    "import scipy.optimize as opt\n",
    "import matplotlib.pyplot as plt\n",
    "\n",
    "%matplotlib inline"
   ]
  },
  {
   "cell_type": "code",
   "execution_count": 11,
   "metadata": {},
   "outputs": [
    {
     "data": {
      "text/html": [
       "<div>\n",
       "<style scoped>\n",
       "    .dataframe tbody tr th:only-of-type {\n",
       "        vertical-align: middle;\n",
       "    }\n",
       "\n",
       "    .dataframe tbody tr th {\n",
       "        vertical-align: top;\n",
       "    }\n",
       "\n",
       "    .dataframe thead th {\n",
       "        text-align: right;\n",
       "    }\n",
       "</style>\n",
       "<table border=\"1\" class=\"dataframe\">\n",
       "  <thead>\n",
       "    <tr style=\"text-align: right;\">\n",
       "      <th></th>\n",
       "      <th>Exam 1</th>\n",
       "      <th>Exam 2</th>\n",
       "      <th>Admitted</th>\n",
       "    </tr>\n",
       "  </thead>\n",
       "  <tbody>\n",
       "    <tr>\n",
       "      <th>0</th>\n",
       "      <td>34.623660</td>\n",
       "      <td>78.024693</td>\n",
       "      <td>0</td>\n",
       "    </tr>\n",
       "    <tr>\n",
       "      <th>1</th>\n",
       "      <td>30.286711</td>\n",
       "      <td>43.894998</td>\n",
       "      <td>0</td>\n",
       "    </tr>\n",
       "    <tr>\n",
       "      <th>2</th>\n",
       "      <td>35.847409</td>\n",
       "      <td>72.902198</td>\n",
       "      <td>0</td>\n",
       "    </tr>\n",
       "    <tr>\n",
       "      <th>3</th>\n",
       "      <td>60.182599</td>\n",
       "      <td>86.308552</td>\n",
       "      <td>1</td>\n",
       "    </tr>\n",
       "    <tr>\n",
       "      <th>4</th>\n",
       "      <td>79.032736</td>\n",
       "      <td>75.344376</td>\n",
       "      <td>1</td>\n",
       "    </tr>\n",
       "  </tbody>\n",
       "</table>\n",
       "</div>"
      ],
      "text/plain": [
       "      Exam 1     Exam 2  Admitted\n",
       "0  34.623660  78.024693         0\n",
       "1  30.286711  43.894998         0\n",
       "2  35.847409  72.902198         0\n",
       "3  60.182599  86.308552         1\n",
       "4  79.032736  75.344376         1"
      ]
     },
     "execution_count": 11,
     "metadata": {},
     "output_type": "execute_result"
    }
   ],
   "source": [
    "# Load data from file\n",
    "data = pd.read_csv('ex2data1.txt', header=None, names=['Exam 1', 'Exam 2', 'Admitted'])\n",
    "data.head()"
   ]
  },
  {
   "cell_type": "markdown",
   "metadata": {},
   "source": [
    "Plot scatterplot of data"
   ]
  },
  {
   "cell_type": "code",
   "execution_count": 12,
   "metadata": {},
   "outputs": [
    {
     "data": {
      "text/plain": [
       "<matplotlib.legend.Legend at 0x18df23e7580>"
      ]
     },
     "execution_count": 12,
     "metadata": {},
     "output_type": "execute_result"
    },
    {
     "data": {
      "image/png": "[encoded data removed]",
      "text/plain": [
       "<Figure size 720x576 with 1 Axes>"
      ]
     },
     "metadata": {
      "needs_background": "light"
     },
     "output_type": "display_data"
    }
   ],
   "source": [
    "# Find all data points with positive and negative results respectively\n",
    "pos = data[data['Admitted'].isin([1])]\n",
    "neg = data[data['Admitted'].isin([0])]\n",
    "\n",
    "# Plot data\n",
    "fig, ax = plt.subplots(figsize=(10, 8))\n",
    "ax.scatter(pos['Exam 1'], pos['Exam 2'], marker='o', color='black', label='Admitted')\n",
    "ax.scatter(neg['Exam 1'], neg['Exam 2'], marker='x', color='red', label='Not admitted')\n",
    "ax.set_xlabel('Exam 1 score')\n",
    "ax.set_ylabel('Exam 2 score')\n",
    "ax.legend()"
   ]
  },
  {
   "cell_type": "markdown",
   "metadata": {},
   "source": [
    "Define and test sigmoid function"
   ]
  },
  {
   "cell_type": "code",
   "execution_count": 13,
   "metadata": {},
   "outputs": [
    {
     "data": {
      "text/plain": [
       "matrix([[0.5       ],\n",
       "        [0.73105858],\n",
       "        [0.26894142],\n",
       "        [0.98201379],\n",
       "        [0.01798621]])"
      ]
     },
     "execution_count": 13,
     "metadata": {},
     "output_type": "execute_result"
    }
   ],
   "source": [
    "def sigmoid(z):\n",
    "    return 1 / (1 + np.exp(-z))\n",
    "\n",
    "test = np.matrix([[0], [1], [-1], [4], [-4]])\n",
    "sigmoid(test)"
   ]
  },
  {
   "cell_type": "markdown",
   "metadata": {},
   "source": [
    "Define cost and gradient functions"
   ]
  },
  {
   "cell_type": "code",
   "execution_count": 14,
   "metadata": {},
   "outputs": [],
   "source": [
    "def cost_fn(theta, X, y):\n",
    "    h = sigmoid(X @ theta)\n",
    "    J = (-1/m) * np.sum(np.multiply(y, np.log(h)) + np.multiply((1-y), np.log(1-h)))\n",
    "    return J\n",
    "\n",
    "def grad_fn(theta, X, y):\n",
    "    h = sigmoid(X @ theta)\n",
    "    return ((1/m) * X.T @ (h-y))"
   ]
  },
  {
   "cell_type": "markdown",
   "metadata": {},
   "source": [
    "Prepare data for calculations"
   ]
  },
  {
   "cell_type": "code",
   "execution_count": 15,
   "metadata": {},
   "outputs": [],
   "source": [
    "# Add column of 1s for intercept value\n",
    "data.insert(0, '', 1)\n",
    "\n",
    "# Extract X (training data) and y (result)\n",
    "X = data.iloc[:, 0:3]\n",
    "y = data.iloc[:, -1]\n",
    "\n",
    "# Convert to numpy arrays\n",
    "X = np.array(X.values)\n",
    "y = np.array(y.values)\n",
    "\n",
    "m, n = X.shape"
   ]
  },
  {
   "cell_type": "markdown",
   "metadata": {},
   "source": [
    "Compute and display cost and gradient with theta = [0, 0, 0]"
   ]
  },
  {
   "cell_type": "code",
   "execution_count": 16,
   "metadata": {},
   "outputs": [
    {
     "name": "stdout",
     "output_type": "stream",
     "text": [
      "Cost at initial theta (zeros): 0.693147\n",
      "Expected cost (approx): 0.693\n",
      "Gradient at initial theta (zeros):\n",
      "[ -0.1        -12.00921659 -11.26284221]\n",
      "Expected gradients (approx):\n",
      " -0.1000\n",
      " -12.0092\n",
      " -11.2628\n"
     ]
    }
   ],
   "source": [
    "initial_theta = np.zeros(n)\n",
    "cost = cost_fn(initial_theta, X, y)\n",
    "gradient = grad_fn(initial_theta, X, y)\n",
    "print('Cost at initial theta (zeros): %f' % cost)\n",
    "print('Expected cost (approx): 0.693')\n",
    "print('Gradient at initial theta (zeros):')\n",
    "print(gradient)\n",
    "print('Expected gradients (approx):\\n -0.1000\\n -12.0092\\n -11.2628')"
   ]
  },
  {
   "cell_type": "markdown",
   "metadata": {},
   "source": [
    "Compute and display cost and gradient with theta = [-24, 0.2, 0.2]"
   ]
  },
  {
   "cell_type": "code",
   "execution_count": 17,
   "metadata": {},
   "outputs": [
    {
     "name": "stdout",
     "output_type": "stream",
     "text": [
      "Cost at initial theta (zeros): 0.218330\n",
      "Expected cost (approx): 0.218\n",
      "Gradient at initial theta (zeros):\n",
      "[0.04290299 2.56623412 2.64679737]\n",
      "Expected gradients (approx):\n",
      " 0.043\n",
      " 2.566\n",
      " 2.647\n"
     ]
    }
   ],
   "source": [
    "test_theta = np.array([-24, 0.2, 0.2])\n",
    "cost = cost_fn(test_theta, X, y)\n",
    "gradient = grad_fn(test_theta, X, y)\n",
    "print('Cost at initial theta (zeros): %f' % cost)\n",
    "print('Expected cost (approx): 0.218')\n",
    "print('Gradient at initial theta (zeros):')\n",
    "print(gradient)\n",
    "print('Expected gradients (approx):\\n 0.043\\n 2.566\\n 2.647')"
   ]
  },
  {
   "cell_type": "markdown",
   "metadata": {},
   "source": [
    "Optimizing using fmin_tnc"
   ]
  },
  {
   "cell_type": "code",
   "execution_count": 18,
   "metadata": {},
   "outputs": [
    {
     "name": "stdout",
     "output_type": "stream",
     "text": [
      "Cost at theta found by fminunc: 0.203498\n",
      "Expected cost (approx): 0.203\n",
      "theta:\n",
      "[-25.16131857   0.20623159   0.20147149]\n",
      "Expected theta (approx):\n",
      " -25.161\n",
      " 0.206\n",
      " 0.201\n"
     ]
    }
   ],
   "source": [
    "results = opt.fmin_tnc(func=cost_fn, x0=initial_theta, fprime=grad_fn, args=(X, y))\n",
    "\n",
    "theta_opt = results[0]\n",
    "cost = cost_fn(results[0], X, y)\n",
    "\n",
    "print('Cost at theta found by fminunc: %f' % cost);\n",
    "print('Expected cost (approx): 0.203');\n",
    "print('theta:');\n",
    "print(theta_opt);\n",
    "print('Expected theta (approx):');\n",
    "print(' -25.161\\n 0.206\\n 0.201');\n"
   ]
  },
  {
   "cell_type": "markdown",
   "metadata": {},
   "source": [
    "Plot boundary"
   ]
  },
  {
   "cell_type": "code",
   "execution_count": 22,
   "metadata": {},
   "outputs": [
    {
     "data": {
      "text/plain": [
       "<matplotlib.legend.Legend at 0x18df65ca440>"
      ]
     },
     "execution_count": 22,
     "metadata": {},
     "output_type": "execute_result"
    },
    {
     "data": {
      "image/png": "[encoded data removed]",
      "text/plain": [
       "<Figure size 720x576 with 1 Axes>"
      ]
     },
     "metadata": {
      "needs_background": "light"
     },
     "output_type": "display_data"
    }
   ],
   "source": [
    "# Find all data points with positive and negative results respectively\n",
    "pos = data[data['Admitted'].isin([1])]\n",
    "neg = data[data['Admitted'].isin([0])]\n",
    "\n",
    "# Plot data\n",
    "fig, ax = plt.subplots(figsize=(10, 8))\n",
    "ax.scatter(pos['Exam 1'], pos['Exam 2'], marker='o', color='black', label='Admitted')\n",
    "ax.scatter(neg['Exam 1'], neg['Exam 2'], marker='x', color='red', label='Not admitted')\n",
    "\n",
    "# Calculate x and y values for decision boundary\n",
    "plot_x = [np.min(X[:,1]-2), np.max(X[:,2]+2)]\n",
    "plot_y = (-1/theta_opt[2]) * (theta_opt[0] + np.dot(theta_opt[1], plot_x))\n",
    "\n",
    "# Plot decision boundary\n",
    "ax.plot(plot_x, plot_y, label=\"Decision Boundary\")\n",
    "\n",
    "# Set plot details\n",
    "ax.set_xlabel('Exam 1 score')\n",
    "ax.set_ylabel('Exam 2 score')\n",
    "ax.legend()"
   ]
  },
  {
   "cell_type": "markdown",
   "metadata": {},
   "source": [
    "Predict probability of a student with scores 45 and 85"
   ]
  },
  {
   "cell_type": "code",
   "execution_count": 24,
   "metadata": {},
   "outputs": [
    {
     "name": "stdout",
     "output_type": "stream",
     "text": [
      "For a student with scores 45 and 85, we predict and admission probability of 0.776291\n",
      "Expected value: 0.775 +/- 0.002\n"
     ]
    }
   ],
   "source": [
    "prob = sigmoid([1, 45, 85] @ theta_opt)\n",
    "\n",
    "print('For a student with scores 45 and 85, we predict and admission probability of %f' % prob)\n",
    "print('Expected value: 0.775 +/- 0.002')"
   ]
  },
  {
   "cell_type": "markdown",
   "metadata": {},
   "source": [
    "Compute accuracy"
   ]
  },
  {
   "cell_type": "code",
   "execution_count": 36,
   "metadata": {},
   "outputs": [
    {
     "name": "stdout",
     "output_type": "stream",
     "text": [
      "89.0\n"
     ]
    }
   ],
   "source": [
    "def predict(theta, X):\n",
    "    m, n = X.shape\n",
    "    p = np.zeros(m)\n",
    "    z = X @ theta\n",
    "    threshholds = sigmoid(z)\n",
    "    for i in range(m):\n",
    "        p[i] = 1 if threshholds[i] >= 0.5 else 0\n",
    "\n",
    "    return p\n",
    "\n",
    "p = predict(theta_opt, X)\n",
    "accuracy = np.mean(p == y) * 100\n",
    "\n",
    "print('Train accuracy: %f' % accuracy)\n",
    "print('Expected accuracy (approx): 89.0')"
   ]
  },
  {
   "cell_type": "code",
   "execution_count": null,
   "metadata": {},
   "outputs": [],
   "source": []
  }
 ],
 "metadata": {
  "interpreter": {
   "hash": "8c3ad042ee7508524fa8f56507c413b7177680a99c3e0f53cc4374ec571bb643"
  },
  "kernelspec": {
   "display_name": "Python 3.10.1 64-bit",
   "language": "python",
   "name": "python3"
  },
  "language_info": {
   "codemirror_mode": {
    "name": "ipython",
    "version": 3
   },
   "file_extension": ".py",
   "mimetype": "text/x-python",
   "name": "python",
   "nbconvert_exporter": "python",
   "pygments_lexer": "ipython3",
   "version": "3.10.1"
  },
  "orig_nbformat": 4
 },
 "nbformat": 4,
 "nbformat_minor": 2
}
