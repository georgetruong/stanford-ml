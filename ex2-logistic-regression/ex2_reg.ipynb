{
 "cells": [
  {
   "cell_type": "markdown",
   "metadata": {},
   "source": [
    "# Excercise 2 - Regularized Logistic regression"
   ]
  },
  {
   "cell_type": "code",
   "execution_count": 1,
   "metadata": {},
   "outputs": [],
   "source": [
    "import numpy as np\n",
    "import pandas as pd\n",
    "import scipy.optimize as opt\n",
    "import matplotlib.pyplot as plt\n",
    "from pylab import rcParams\n",
    "\n",
    "%matplotlib inline\n",
    "rcParams['figure.figsize'] = 6,5"
   ]
  },
  {
   "cell_type": "code",
   "execution_count": 2,
   "metadata": {},
   "outputs": [
    {
     "data": {
      "text/html": [
       "<div>\n",
       "<style scoped>\n",
       "    .dataframe tbody tr th:only-of-type {\n",
       "        vertical-align: middle;\n",
       "    }\n",
       "\n",
       "    .dataframe tbody tr th {\n",
       "        vertical-align: top;\n",
       "    }\n",
       "\n",
       "    .dataframe thead th {\n",
       "        text-align: right;\n",
       "    }\n",
       "</style>\n",
       "<table border=\"1\" class=\"dataframe\">\n",
       "  <thead>\n",
       "    <tr style=\"text-align: right;\">\n",
       "      <th></th>\n",
       "      <th>Test 1</th>\n",
       "      <th>Test 2</th>\n",
       "      <th>Accepted</th>\n",
       "    </tr>\n",
       "  </thead>\n",
       "  <tbody>\n",
       "    <tr>\n",
       "      <th>0</th>\n",
       "      <td>0.051267</td>\n",
       "      <td>0.69956</td>\n",
       "      <td>1</td>\n",
       "    </tr>\n",
       "    <tr>\n",
       "      <th>1</th>\n",
       "      <td>-0.092742</td>\n",
       "      <td>0.68494</td>\n",
       "      <td>1</td>\n",
       "    </tr>\n",
       "    <tr>\n",
       "      <th>2</th>\n",
       "      <td>-0.213710</td>\n",
       "      <td>0.69225</td>\n",
       "      <td>1</td>\n",
       "    </tr>\n",
       "    <tr>\n",
       "      <th>3</th>\n",
       "      <td>-0.375000</td>\n",
       "      <td>0.50219</td>\n",
       "      <td>1</td>\n",
       "    </tr>\n",
       "    <tr>\n",
       "      <th>4</th>\n",
       "      <td>-0.513250</td>\n",
       "      <td>0.46564</td>\n",
       "      <td>1</td>\n",
       "    </tr>\n",
       "  </tbody>\n",
       "</table>\n",
       "</div>"
      ],
      "text/plain": [
       "     Test 1   Test 2  Accepted\n",
       "0  0.051267  0.69956         1\n",
       "1 -0.092742  0.68494         1\n",
       "2 -0.213710  0.69225         1\n",
       "3 -0.375000  0.50219         1\n",
       "4 -0.513250  0.46564         1"
      ]
     },
     "execution_count": 2,
     "metadata": {},
     "output_type": "execute_result"
    }
   ],
   "source": [
    "# Load data from file\n",
    "data = pd.read_csv('ex2data2.txt', header=None, names=['Test 1', 'Test 2', 'Accepted'])\n",
    "data.head()"
   ]
  },
  {
   "cell_type": "markdown",
   "metadata": {},
   "source": [
    "Visualizing the data"
   ]
  },
  {
   "cell_type": "code",
   "execution_count": 3,
   "metadata": {},
   "outputs": [
    {
     "data": {
      "text/plain": [
       "<matplotlib.legend.Legend at 0x299a170efb0>"
      ]
     },
     "execution_count": 3,
     "metadata": {},
     "output_type": "execute_result"
    },
    {
     "data": {
      "image/png": "[encoded data removed]",
      "text/plain": [
       "<Figure size 720x576 with 1 Axes>"
      ]
     },
     "metadata": {
      "needs_background": "light"
     },
     "output_type": "display_data"
    }
   ],
   "source": [
    "# Find all data points with positive and negative accepted results respectively\n",
    "pos = data[data['Accepted'].isin([1])]\n",
    "neg = data[data['Accepted'].isin([0])]\n",
    "\n",
    "# Plot data\n",
    "fig, ax = plt.subplots(figsize=(10, 8))\n",
    "ax.scatter(pos['Test 1'], pos['Test 2'], marker='x', color='black', label='y=1')\n",
    "ax.scatter(neg['Test 1'], neg['Test 2'], marker='o', color='yellow', label='y=0')\n",
    "ax.set_xlabel('Microchip Test 1')\n",
    "ax.set_ylabel('Microchip Test 2')\n",
    "ax.legend()"
   ]
  },
  {
   "cell_type": "markdown",
   "metadata": {},
   "source": [
    "Feature mapping"
   ]
  },
  {
   "cell_type": "code",
   "execution_count": 4,
   "metadata": {},
   "outputs": [],
   "source": [
    "def map_feature(X1, X2):\n",
    "    degree = 6\n",
    "    out = np.ones((X1.size, 1))\n",
    "\n",
    "    # NOTE: +1 because of differences in Python not counting last number in range\n",
    "    for i in range(1, degree+1, 1):\n",
    "        for j in range(0, i+1, 1):\n",
    "            tmp = np.multiply((X1**(i-j)),  (X2**j))\n",
    "            tmp = tmp.reshape((X1.size, 1))\n",
    "            out = np.hstack([out, tmp])\n",
    "\n",
    "    return out\n",
    "\n",
    "X = map_feature(data['Test 1'].values, data['Test 2'].values)\n",
    "y = data['Accepted'].values\n",
    "\n",
    "m, n = X.shape"
   ]
  },
  {
   "cell_type": "code",
   "execution_count": 5,
   "metadata": {},
   "outputs": [],
   "source": [
    "def sigmoid(z):\n",
    "    return 1 / (1 + np.exp(-z))\n",
    "\n",
    "# NOTE: Old cost and grad functions written by me\n",
    "def cost_fn_reg_old(theta, X, y, learning_rate):\n",
    "    h = sigmoid(X @ theta)\n",
    "    reg = learning_rate/(2*m) * np.sum(np.power(theta[1:n], 2))\n",
    "    J = (1/m)*np.sum(np.multiply(-y,np.log(h)) - np.multiply(1-y,np.log(1-h))) + reg\n",
    "    return J\n",
    "\n",
    "def grad_fn_reg_old(theta, X, y, learning_rate):\n",
    "    h = sigmoid(np.dot(X, theta))\n",
    "    grad = np.zeros((n, 1))\n",
    "    for i in range(n):\n",
    "        error = np.subtract(h,y)\n",
    "        x_col = X[:,i]\n",
    "        grad[i] = (1/m) * np.sum(np.multiply(error, x_col)) + learning_rate/m * theta[i]\n",
    "    \n",
    "    grad[0] = (1/m) * np.sum(np.multiply(h-y, X[:,0]))\n",
    "    return grad"
   ]
  },
  {
   "cell_type": "code",
   "execution_count": 6,
   "metadata": {},
   "outputs": [
    {
     "name": "stdout",
     "output_type": "stream",
     "text": [
      "Cost at initial theta (zeros): %f\n",
      " 0.6931471805599454\n",
      "Expected cost (approx): 0.693\n",
      "Gradient at initial theta (zeros) - first five values only:\n",
      " 0.0085\n",
      " 0.0188\n",
      " 0.0001\n",
      " 0.0503\n",
      " 0.0115\n",
      "Expected gradients (approx) - first five values only:\n",
      " 0.0085\n",
      " 0.0188\n",
      " 0.0001\n",
      " 0.0503\n",
      " 0.0115\n",
      "\n"
     ]
    }
   ],
   "source": [
    "lam = 1\n",
    "initial_theta = np.zeros((n,1))\n",
    "\n",
    "initial_theta = initial_theta.flatten()\n",
    "y = y.flatten()\n",
    "\n",
    "cost = cost_fn_reg_old(initial_theta, X, y, lam)\n",
    "grad = grad_fn_reg_old(initial_theta, X, y, lam)\n",
    "\n",
    "print('Cost at initial theta (zeros): %f\\n', cost)\n",
    "print('Expected cost (approx): 0.693')\n",
    "print('Gradient at initial theta (zeros) - first five values only:')\n",
    "for i in range(5):\n",
    "    print(' %.4f' % grad[i])\n",
    "print('Expected gradients (approx) - first five values only:')\n",
    "print(' 0.0085\\n 0.0188\\n 0.0001\\n 0.0503\\n 0.0115\\n')\n"
   ]
  },
  {
   "cell_type": "markdown",
   "metadata": {},
   "source": [
    "*Note: Testing code from [Analytics Vidhya](https://medium.com/analytics-vidhya/python-implementation-of-andrew-ngs-machine-learning-course-part-2-2-dceff1a12a12) to try to understand why fmin_tnc is not converging at the right values later...*"
   ]
  },
  {
   "cell_type": "code",
   "execution_count": 7,
   "metadata": {},
   "outputs": [],
   "source": [
    "def cost_fn_reg(theta, X, y, lam):\n",
    "    m = len(y)\n",
    "    h = sigmoid(X @ theta)\n",
    "    J = (-1/m) * (y.T @ np.log(h) + (1 - y.T) @ np.log(1-h))\n",
    "    reg = (lam/(2*m)) * (theta[1:] @ theta[1:])\n",
    "    return J + reg\n",
    "\n",
    "def grad_fn_reg(theta, X, y, lam):\n",
    "    m = len(y)\n",
    "    h = sigmoid(X @ theta)\n",
    "    grad = (1/m) * X.T @ (h - y)\n",
    "    grad[1:] = grad[1:] + (lam/m) * theta[1:]\n",
    "    return grad"
   ]
  },
  {
   "cell_type": "markdown",
   "metadata": {},
   "source": [
    "Test cost and gradient functions"
   ]
  },
  {
   "cell_type": "code",
   "execution_count": 8,
   "metadata": {},
   "outputs": [
    {
     "name": "stdout",
     "output_type": "stream",
     "text": [
      "Cost at initial theta (zeros): %f\n",
      " 0.6931471805599454\n",
      "Expected cost (approx): 0.693\n",
      "Gradient at initial theta (zeros) - first five values only:\n",
      " 0.0085\n",
      " 0.0188\n",
      " 0.0001\n",
      " 0.0503\n",
      " 0.0115\n",
      "Expected gradients (approx) - first five values only:\n",
      " 0.0085\n",
      " 0.0188\n",
      " 0.0001\n",
      " 0.0503\n",
      " 0.0115\n",
      "\n"
     ]
    }
   ],
   "source": [
    "# initial_theta = initial_theta.flatten()\n",
    "# y = y.flatten()\n",
    "\n",
    "cost = cost_fn_reg(initial_theta, X, y, lam)\n",
    "grad = grad_fn_reg(initial_theta, X, y, lam)\n",
    "\n",
    "print('Cost at initial theta (zeros): %f\\n', cost)\n",
    "print('Expected cost (approx): 0.693')\n",
    "print('Gradient at initial theta (zeros) - first five values only:')\n",
    "for i in range(5):\n",
    "    print(' %.4f' % grad[i])\n",
    "print('Expected gradients (approx) - first five values only:')\n",
    "print(' 0.0085\\n 0.0188\\n 0.0001\\n 0.0503\\n 0.0115\\n')\n"
   ]
  },
  {
   "cell_type": "markdown",
   "metadata": {},
   "source": [
    "Regularization and accuracies\n",
    "\n",
    "*NOTE: for some reason `opt.fmin_tnc` is failing to converge at the optimum values for theta even though cost and gradient functions are calculating correctly*"
   ]
  },
  {
   "cell_type": "code",
   "execution_count": 9,
   "metadata": {},
   "outputs": [
    {
     "name": "stdout",
     "output_type": "stream",
     "text": [
      "Cost at test theta (with lambda = 10): 0.65\n",
      "Expected cost (approx): 3.16\n",
      "Gradient at test theta - first five values only:\n",
      " 0.0085\n",
      " 0.0188\n",
      " 0.0001\n",
      " 0.0503\n",
      " 0.0115\n",
      "Expected gradients (approx) - first five values only:\n",
      " 0.3460\n",
      " 0.1614\n",
      " 0.1948\n",
      " 0.2269\n",
      " 0.0922\n",
      "\n"
     ]
    }
   ],
   "source": [
    "lam = 10\n",
    "initial_theta = np.zeros((n,1))\n",
    "res = opt.fmin_tnc(func = cost_fn_reg_old, x0=initial_theta, fprime=grad_fn_reg_old, args=(X,y, lam))\n",
    "theta_opt = res[0]\n",
    "\n",
    "cost = cost_fn_reg(res[0], X, y, lam)\n",
    "\n",
    "print('Cost at test theta (with lambda = 10): %.2f' % cost)\n",
    "print('Expected cost (approx): 3.16')\n",
    "print('Gradient at test theta - first five values only:')\n",
    "for i in range(5):\n",
    "    print(' %.4f' % grad[i])\n",
    "print('Expected gradients (approx) - first five values only:')\n",
    "print(' 0.3460\\n 0.1614\\n 0.1948\\n 0.2269\\n 0.0922\\n')"
   ]
  },
  {
   "cell_type": "code",
   "execution_count": 10,
   "metadata": {},
   "outputs": [
    {
     "name": "stdout",
     "output_type": "stream",
     "text": [
      "Cost at test theta (with lambda = 10): 0.65\n",
      "Expected cost (approx): 3.16\n",
      "Gradient at test theta - first five values only:\n",
      " 0.0085\n",
      " 0.0188\n",
      " 0.0001\n",
      " 0.0503\n",
      " 0.0115\n",
      "Expected gradients (approx) - first five values only:\n",
      " 0.3460\n",
      " 0.1614\n",
      " 0.1948\n",
      " 0.2269\n",
      " 0.0922\n",
      "\n"
     ]
    }
   ],
   "source": [
    "lam = 10\n",
    "initial_theta = np.zeros((n,1))\n",
    "res = opt.fmin_tnc(func = cost_fn_reg, x0=initial_theta, fprime=grad_fn_reg, args=(X,y, lam))\n",
    "theta_opt = res[0]\n",
    "\n",
    "cost = cost_fn_reg(res[0], X, y, lam)\n",
    "\n",
    "print('Cost at test theta (with lambda = 10): %.2f' % cost)\n",
    "print('Expected cost (approx): 3.16')\n",
    "print('Gradient at test theta - first five values only:')\n",
    "for i in range(5):\n",
    "    print(' %.4f' % grad[i])\n",
    "print('Expected gradients (approx) - first five values only:')\n",
    "print(' 0.3460\\n 0.1614\\n 0.1948\\n 0.2269\\n 0.0922\\n')"
   ]
  },
  {
   "cell_type": "code",
   "execution_count": 11,
   "metadata": {},
   "outputs": [
    {
     "data": {
      "text/plain": [
       "0.5290027299645101"
      ]
     },
     "execution_count": 11,
     "metadata": {},
     "output_type": "execute_result"
    }
   ],
   "source": [
    "lam = 1\n",
    "res = opt.fmin_tnc(func = cost_fn_reg, x0=initial_theta, fprime=grad_fn_reg, args=(X,y, lam))\n",
    "theta_opt = res[0]\n",
    "\n",
    "cost = cost_fn_reg(res[0], X, y, lam)\n",
    "cost"
   ]
  },
  {
   "cell_type": "code",
   "execution_count": 12,
   "metadata": {},
   "outputs": [
    {
     "name": "stdout",
     "output_type": "stream",
     "text": [
      "Train Accuracy: 83.05\n"
     ]
    }
   ],
   "source": [
    "pred = [sigmoid(X @ theta_opt) >= 0.5]\n",
    "accuracy = np.mean(pred == y.flatten()) * 100\n",
    "\n",
    "print('Train Accuracy: %.2f' % accuracy)"
   ]
  },
  {
   "cell_type": "markdown",
   "metadata": {},
   "source": [
    "Plot decision boundary"
   ]
  },
  {
   "cell_type": "code",
   "execution_count": 13,
   "metadata": {},
   "outputs": [
    {
     "data": {
      "text/plain": [
       "<matplotlib.legend.Legend at 0x299a4c2bf70>"
      ]
     },
     "execution_count": 13,
     "metadata": {},
     "output_type": "execute_result"
    },
    {
     "data": {
      "image/png": "[encoded data removed]",
      "text/plain": [
       "<Figure size 720x576 with 1 Axes>"
      ]
     },
     "metadata": {
      "needs_background": "light"
     },
     "output_type": "display_data"
    }
   ],
   "source": [
    "# Plot data\n",
    "fig, ax = plt.subplots(figsize=(10, 8))\n",
    "ax.scatter(pos['Test 1'], pos['Test 2'], marker='x', color='black', label='y=1')\n",
    "ax.scatter(neg['Test 1'], neg['Test 2'], marker='o', color='yellow', label='y=0')\n",
    "\n",
    "# Calculate and plot boundary\n",
    "u = np.linspace(-1, 1.5, 50)\n",
    "v = np.linspace(-1, 1.5, 50)\n",
    "z = np.zeros((len(u), len(v)))\n",
    "\n",
    "def map_feature_for_plotting(X1, X2):\n",
    "    degree = 6\n",
    "    out = np.ones(1)\n",
    "    for i in range(1, degree+1):\n",
    "        for j in range(i+1):\n",
    "            out = np.hstack((out, np.multiply(np.power(X1, 1-j), np.power(X2, j))))\n",
    "    return out\n",
    "\n",
    "for i in range(len(u)):\n",
    "    for j in range(len(v)):\n",
    "        z[i,j] = np.dot(map_feature(u[i], v[j]), theta_opt)\n",
    "\n",
    "plt.contour(u,v,z,0)\n",
    "\n",
    "ax.set_xlabel('Microchip Test 1')\n",
    "ax.set_ylabel('Microchip Test 2')\n",
    "ax.legend()"
   ]
  },
  {
   "cell_type": "code",
   "execution_count": null,
   "metadata": {},
   "outputs": [],
   "source": []
  }
 ],
 "metadata": {
  "interpreter": {
   "hash": "8c3ad042ee7508524fa8f56507c413b7177680a99c3e0f53cc4374ec571bb643"
  },
  "kernelspec": {
   "display_name": "Python 3.10.4 64-bit",
   "language": "python",
   "name": "python3"
  },
  "language_info": {
   "codemirror_mode": {
    "name": "ipython",
    "version": 3
   },
   "file_extension": ".py",
   "mimetype": "text/x-python",
   "name": "python",
   "nbconvert_exporter": "python",
   "pygments_lexer": "ipython3",
   "version": "3.10.1"
  },
  "orig_nbformat": 4
 },
 "nbformat": 4,
 "nbformat_minor": 2
}
