{
 "cells": [
  {
   "cell_type": "markdown",
   "metadata": {},
   "source": [
    "# Excercise 1 (Multi) - Linear regression with multiple variables"
   ]
  },
  {
   "cell_type": "markdown",
   "metadata": {},
   "source": [
    "## 3.1 - Feature Normalization"
   ]
  },
  {
   "cell_type": "code",
   "execution_count": 164,
   "metadata": {},
   "outputs": [],
   "source": [
    "import numpy as np\n",
    "\n",
    "import matplotlib.pyplot as plt\n",
    "from pylab import rcParams"
   ]
  },
  {
   "cell_type": "code",
   "execution_count": 165,
   "metadata": {},
   "outputs": [],
   "source": [
    "%matplotlib inline\n",
    "rcParams['figure.figsize'] = 6,5"
   ]
  },
  {
   "cell_type": "markdown",
   "metadata": {},
   "source": [
    "Load data from file"
   ]
  },
  {
   "cell_type": "code",
   "execution_count": 166,
   "metadata": {},
   "outputs": [],
   "source": [
    "data = np.loadtxt('ex1data2.txt', delimiter=',')\n",
    "\n",
    "X = data[:, [0,1]]\n",
    "y = data[:, 2]\n",
    "\n",
    "m = y.size \n",
    "X = X.reshape((m, 2))\n",
    "y = y.reshape((m, 1))"
   ]
  },
  {
   "cell_type": "markdown",
   "metadata": {},
   "source": [
    "Print examples from dataset"
   ]
  },
  {
   "cell_type": "code",
   "execution_count": 167,
   "metadata": {},
   "outputs": [
    {
     "name": "stdout",
     "output_type": "stream",
     "text": [
      "First 10 examples from the dataset:\n",
      "X = \n",
      "[[2.104e+03 3.000e+00]\n",
      " [1.600e+03 3.000e+00]\n",
      " [2.400e+03 3.000e+00]\n",
      " [1.416e+03 2.000e+00]\n",
      " [3.000e+03 4.000e+00]\n",
      " [1.985e+03 4.000e+00]\n",
      " [1.534e+03 3.000e+00]\n",
      " [1.427e+03 3.000e+00]\n",
      " [1.380e+03 3.000e+00]\n",
      " [1.494e+03 3.000e+00]]\n",
      "\n",
      "y = \n",
      "[[399900.]\n",
      " [329900.]\n",
      " [369000.]\n",
      " [232000.]\n",
      " [539900.]\n",
      " [299900.]\n",
      " [314900.]\n",
      " [198999.]\n",
      " [212000.]\n",
      " [242500.]]\n"
     ]
    }
   ],
   "source": [
    "print('First 10 examples from the dataset:')\n",
    "print('X = ')\n",
    "print(X[:10, :])\n",
    "\n",
    "print()\n",
    "\n",
    "print('y = ')\n",
    "print(y[:10])"
   ]
  },
  {
   "cell_type": "markdown",
   "metadata": {},
   "source": [
    "Normalizing features "
   ]
  },
  {
   "cell_type": "code",
   "execution_count": 168,
   "metadata": {},
   "outputs": [],
   "source": [
    "def feature_normalize(X):\n",
    "    # Calculate dimensions of X\n",
    "    m, num_features = X.shape\n",
    "\n",
    "    # Setup some variables for calculations\n",
    "    X_norm = X.copy()\n",
    "    mu = np.zeros((1, num_features))\n",
    "    sigma = np.zeros((1, num_features))\n",
    "\n",
    "    # Calculate mean and standard deviation for each feature in X\n",
    "    for j in range(num_features):\n",
    "        mu[0, j] = np.mean(X[:, j])\n",
    "        sigma[0, j] = np.std(X[:, j])\n",
    "\n",
    "    # Normalize data in X\n",
    "    for i in range(m):\n",
    "        for j in range(num_features):\n",
    "            X_norm[i, j] = (X_norm[i, j] - mu[0, j]) / sigma[0, j]\n",
    "\n",
    "    return X_norm, mu, sigma\n",
    "\n",
    "X, mu, sigma = feature_normalize(X)"
   ]
  },
  {
   "cell_type": "markdown",
   "metadata": {},
   "source": [
    "Add intercept term to X and print sample data of normalized X"
   ]
  },
  {
   "cell_type": "code",
   "execution_count": 169,
   "metadata": {},
   "outputs": [
    {
     "name": "stdout",
     "output_type": "stream",
     "text": [
      "[[ 1.          0.13141542 -0.22609337]\n",
      " [ 1.         -0.5096407  -0.22609337]\n",
      " [ 1.          0.5079087  -0.22609337]\n",
      " [ 1.         -0.74367706 -1.5543919 ]\n",
      " [ 1.          1.27107075  1.10220517]\n",
      " [ 1.         -0.01994505  1.10220517]\n",
      " [ 1.         -0.59358852 -0.22609337]\n",
      " [ 1.         -0.72968575 -0.22609337]\n",
      " [ 1.         -0.78946678 -0.22609337]\n",
      " [ 1.         -0.64446599 -0.22609337]]\n"
     ]
    }
   ],
   "source": [
    "X = np.hstack((np.ones((m, 1)), X))\n",
    "\n",
    "print(X[:10, :])"
   ]
  },
  {
   "cell_type": "markdown",
   "metadata": {},
   "source": [
    "## 3.2 - Gradient descent"
   ]
  },
  {
   "cell_type": "code",
   "execution_count": 170,
   "metadata": {},
   "outputs": [],
   "source": [
    "def compute_cost_multi(X, y, theta):\n",
    "    m = y.size\n",
    "    h = X @ theta\n",
    "    return 1 / (2 * m) * np.sum((h - y) ** 2)\n",
    "\n",
    "def gradient_descent_multi(X, y, theta, alpha, num_iters):\n",
    "    # Initialize some useful values\n",
    "    m, num_features = X.shape\n",
    "    J_history = np.zeros((num_iters, 1))\n",
    "\n",
    "    for i in range(num_iters):\n",
    "        h = X @ theta\n",
    "        tmp = np.zeros((num_features, 1))\n",
    "\n",
    "        for j in range(num_features):\n",
    "            col = X[:, j].reshape((m, 1))\n",
    "            tmp[j] = theta[j] - (alpha / m) * np.sum((h - y) * col)\n",
    "\n",
    "        # Update all theta values simultaneously\n",
    "        theta = tmp.copy()\n",
    "\n",
    "        # Store history of cost(J) through each iteration\n",
    "        J_history[i, 0] = compute_cost_multi(X, y, theta)\n",
    "\n",
    "    return theta, J_history"
   ]
  },
  {
   "cell_type": "markdown",
   "metadata": {},
   "source": [
    "Run gradient descent with various alphas "
   ]
  },
  {
   "cell_type": "code",
   "execution_count": 171,
   "metadata": {},
   "outputs": [],
   "source": [
    "# Define variables for gradient descent\n",
    "num_iters = 400\n",
    "\n",
    "# Run gradient descent with alpha = 0.1\n",
    "alpha = 0.1\n",
    "theta = np.zeros((3, 1))\n",
    "theta, J_history = gradient_descent_multi(X, y, theta, alpha, num_iters)\n",
    "theta_0_1 = theta.copy()\n",
    "J1 = J_history\n",
    "\n",
    "# Run gradient descent with alpha = 0.01\n",
    "alpha = 0.01\n",
    "theta = np.zeros((3, 1))\n",
    "theta, J_history = gradient_descent_multi(X, y, theta, alpha, num_iters)\n",
    "J2 = J_history\n",
    "\n",
    "# Run gradient descent with alpha = 0.001\n",
    "alpha = 0.001\n",
    "theta = np.zeros((3, 1))\n",
    "theta, J_history = gradient_descent_multi(X, y, theta, alpha, num_iters)\n",
    "J3 = J_history"
   ]
  },
  {
   "cell_type": "markdown",
   "metadata": {},
   "source": [
    "Plot gradient descent convergance"
   ]
  },
  {
   "cell_type": "code",
   "execution_count": 172,
   "metadata": {},
   "outputs": [
    {
     "data": {
      "text/plain": [
       "<matplotlib.legend.Legend at 0x251020a3280>"
      ]
     },
     "execution_count": 172,
     "metadata": {},
     "output_type": "execute_result"
    },
    {
     "data": {
      "image/png": "[encoded data removed]",
      "text/plain": [
       "<Figure size 720x576 with 1 Axes>"
      ]
     },
     "metadata": {
      "needs_background": "light"
     },
     "output_type": "display_data"
    }
   ],
   "source": [
    "iterations = np.arange(0, J1.size)\n",
    "\n",
    "fig,ax = plt.subplots(figsize=(10, 8))\n",
    "ax.plot(iterations, J1, label='.1')\n",
    "ax.plot(iterations, J2, label='.01')\n",
    "ax.plot(iterations, J3, label='.001')\n",
    "ax.set_title('Gradient Descent Convergance of Cost(J) with Different Learning Rates')\n",
    "ax.set_xlabel('# of Iterations')\n",
    "ax.set_ylabel('Cost(J)')\n",
    "ax.legend()"
   ]
  },
  {
   "cell_type": "markdown",
   "metadata": {},
   "source": [
    "Display gradient descent results"
   ]
  },
  {
   "cell_type": "code",
   "execution_count": 173,
   "metadata": {},
   "outputs": [
    {
     "name": "stdout",
     "output_type": "stream",
     "text": [
      "Theta computed from gradient descent\n",
      "[[340412.65957447]\n",
      " [109447.79558639]\n",
      " [ -6578.3539709 ]]\n"
     ]
    }
   ],
   "source": [
    "print('Theta computed from gradient descent')\n",
    "print(theta_0_1)"
   ]
  },
  {
   "cell_type": "markdown",
   "metadata": {},
   "source": [
    "Estimate the price of a 1650 sq-ft, 3 br house"
   ]
  },
  {
   "cell_type": "code",
   "execution_count": 179,
   "metadata": {},
   "outputs": [
    {
     "name": "stdout",
     "output_type": "stream",
     "text": [
      "[94156.27135253]\n"
     ]
    }
   ],
   "source": [
    "# Data used to predict price\n",
    "area = 1650\n",
    "rooms = 3\n",
    "\n",
    "# Normalize data based on previous calculations of mu and sigma on X\n",
    "area_norm = (area - mu[0, 0]) / sigma[0, 0]\n",
    "rooms_norm = (rooms - mu[0, 1]) / sigma[0, 1]\n",
    "\n",
    "# Calculate predicted price\n",
    "price = (np.array([1, area_norm, rooms_norm])) @ theta\n",
    "\n",
    "# BUG: Price and theta doesn't match Ocatve\n",
    "#       theta = [112272.89; 22056.24; 14493.33]\n",
    "#       price = [14493.33]\n",
    "print('Predicted price of a 1650 sq-ft, 3br house (using gradient decent):')\n",
    "print(price)\n"
   ]
  },
  {
   "cell_type": "code",
   "execution_count": null,
   "metadata": {},
   "outputs": [],
   "source": []
  }
 ],
 "metadata": {
  "interpreter": {
   "hash": "8c3ad042ee7508524fa8f56507c413b7177680a99c3e0f53cc4374ec571bb643"
  },
  "kernelspec": {
   "display_name": "Python 3.10.1 64-bit",
   "language": "python",
   "name": "python3"
  },
  "language_info": {
   "codemirror_mode": {
    "name": "ipython",
    "version": 3
   },
   "file_extension": ".py",
   "mimetype": "text/x-python",
   "name": "python",
   "nbconvert_exporter": "python",
   "pygments_lexer": "ipython3",
   "version": "3.10.1"
  },
  "orig_nbformat": 4
 },
 "nbformat": 4,
 "nbformat_minor": 2
}
