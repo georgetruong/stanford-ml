{
 "cells": [
  {
   "cell_type": "code",
   "execution_count": 1,
   "id": "191bcfa3",
   "metadata": {},
   "outputs": [],
   "source": [
    "import numpy as np\n",
    "\n",
    "import matplotlib.pyplot as plt\n",
    "from pylab import rcParams"
   ]
  },
  {
   "cell_type": "code",
   "execution_count": 2,
   "id": "5770dac4",
   "metadata": {},
   "outputs": [],
   "source": [
    "%matplotlib inline\n",
    "rcParams['figure.figsize'] = 6,5"
   ]
  },
  {
   "cell_type": "markdown",
   "id": "5e1e39ba",
   "metadata": {},
   "source": [
    "# 1 - Simple function\n",
    "Return a 5x5 identity matrix"
   ]
  },
  {
   "cell_type": "code",
   "execution_count": 3,
   "id": "f44d08f2",
   "metadata": {},
   "outputs": [
    {
     "data": {
      "text/plain": [
       "array([[1., 0., 0., 0., 0.],\n",
       "       [0., 1., 0., 0., 0.],\n",
       "       [0., 0., 1., 0., 0.],\n",
       "       [0., 0., 0., 1., 0.],\n",
       "       [0., 0., 0., 0., 1.]])"
      ]
     },
     "execution_count": 3,
     "metadata": {},
     "output_type": "execute_result"
    }
   ],
   "source": [
    "i = np.identity(5)\n",
    "i"
   ]
  },
  {
   "cell_type": "markdown",
   "id": "a3e278ec",
   "metadata": {},
   "source": [
    "# 2 - Linear regression with one variable\n",
    "\n",
    "## 2.1 - Plotting data\n",
    "Read data from a CSV and plot a scatterplot"
   ]
  },
  {
   "cell_type": "code",
   "execution_count": 4,
   "id": "14061868",
   "metadata": {
    "scrolled": true
   },
   "outputs": [
    {
     "data": {
      "text/plain": [
       "<matplotlib.collections.PathCollection at 0x19f6fc6df60>"
      ]
     },
     "execution_count": 4,
     "metadata": {},
     "output_type": "execute_result"
    },
    {
     "data": {
      "image/png": "[encoded data removed]",
      "text/plain": [
       "<Figure size 432x360 with 1 Axes>"
      ]
     },
     "metadata": {
      "needs_background": "light"
     },
     "output_type": "display_data"
    }
   ],
   "source": [
    "data = np.loadtxt('ex1data1.txt', delimiter=',')\n",
    "\n",
    "x = data[:,0]\n",
    "y = data[:,1]\n",
    "\n",
    "plt.scatter(x, y, marker='x', color='red')"
   ]
  },
  {
   "cell_type": "markdown",
   "id": "243d99f8",
   "metadata": {},
   "source": [
    "## 2.2 - Gradient Descent\n",
    "\n",
    "### 2.2.3 - Computing the cost J(theta)"
   ]
  },
  {
   "cell_type": "code",
   "execution_count": 5,
   "id": "ab64e480",
   "metadata": {},
   "outputs": [],
   "source": [
    "def compute_cost(X, y, theta):\n",
    "    # Computes the cost of using theta as the parameter for \n",
    "    # linear regression to fit the data points in X and y\n",
    "    m, n = X.shape\n",
    "    h = X @ theta\n",
    "    return 1 / (2 * m) * np.sum((h - y) ** 2)"
   ]
  },
  {
   "cell_type": "markdown",
   "id": "da5eb7e5",
   "metadata": {},
   "source": [
    "Setup variables for calculations"
   ]
  },
  {
   "cell_type": "code",
   "execution_count": 6,
   "id": "10de09e0",
   "metadata": {},
   "outputs": [],
   "source": [
    "# Number of training examples\n",
    "m = x.size\n",
    "\n",
    "# Reshape x, y values to m by 1 matrices\n",
    "x = np.reshape(x, (m, 1))\n",
    "y = np.reshape(y, (m, 1))\n",
    "\n",
    "# Add a column of ones to x\n",
    "X = np.hstack((np.ones((m, 1)), x))"
   ]
  },
  {
   "cell_type": "markdown",
   "id": "8776742d",
   "metadata": {},
   "source": [
    "Test with theta = [0; 0]"
   ]
  },
  {
   "cell_type": "code",
   "execution_count": 7,
   "id": "1a6bc221",
   "metadata": {},
   "outputs": [
    {
     "name": "stdout",
     "output_type": "stream",
     "text": [
      "With theta = [0; 0]\n",
      "Cost computed = 32.072734\n",
      "Expected cost value (approx) 32.07\n"
     ]
    }
   ],
   "source": [
    "theta = np.zeros((2,1)) \n",
    "J = compute_cost(X, y, theta)\n",
    "\n",
    "print('With theta = [0; 0]')\n",
    "print('Cost computed = %f' % J)\n",
    "print('Expected cost value (approx) 32.07')"
   ]
  },
  {
   "cell_type": "markdown",
   "id": "703299be",
   "metadata": {},
   "source": [
    "Test with theta = [-1; 2]"
   ]
  },
  {
   "cell_type": "code",
   "execution_count": 8,
   "id": "c3f97f96",
   "metadata": {},
   "outputs": [
    {
     "name": "stdout",
     "output_type": "stream",
     "text": [
      "With theta = [-1; 2]\n",
      "Cost computed = 54.242455\n",
      "Expected cost value (approx) 54.24\n"
     ]
    }
   ],
   "source": [
    "J = compute_cost(X, y, np.array([[-1], [2]]))\n",
    "\n",
    "print('With theta = [-1; 2]')\n",
    "print('Cost computed = %f' % J)\n",
    "print('Expected cost value (approx) 54.24')"
   ]
  },
  {
   "cell_type": "markdown",
   "id": "94091a37",
   "metadata": {},
   "source": [
    "### 2.2.4 - Gradient Descent\n",
    "\n",
    "Implement gradient descent algorithm"
   ]
  },
  {
   "cell_type": "code",
   "execution_count": 9,
   "id": "b73edef6",
   "metadata": {},
   "outputs": [],
   "source": [
    "def gradient_descent(X, y, theta, alpha, num_iters):\n",
    "    # Updates theta by taking num_iters gradient steps with learning rate alpha\n",
    "\n",
    "    # Initialize values useful for calculations\n",
    "    m, num_features = X.shape\n",
    "    J_history = np.zeros((num_iters, 1))\n",
    "\n",
    "    for iter in range(num_iters):\n",
    "        h = X @ theta\n",
    "        tmp = np.zeros((num_features, 1))\n",
    "    \n",
    "        for j in range(num_features):\n",
    "            col = X[:, j].reshape((m,1))\n",
    "            tmp[j] = theta[j] - (alpha / m) * np.sum((np.subtract(h, y)) * col)\n",
    "\n",
    "        theta = tmp.copy()                              # Update all theta values\n",
    "        J_history[iter] = compute_cost(X, y, theta)     # Store history of cost(J) through iterations\n",
    "    \n",
    "    return theta, J_history"
   ]
  },
  {
   "cell_type": "markdown",
   "id": "5b992cd0",
   "metadata": {},
   "source": [
    "Test algorithm with theta = [0; 0]"
   ]
  },
  {
   "cell_type": "code",
   "execution_count": 10,
   "id": "b12745eb",
   "metadata": {},
   "outputs": [
    {
     "name": "stdout",
     "output_type": "stream",
     "text": [
      "Theta found by gradient descent:\n",
      "[[-3.63029144]\n",
      " [ 1.16636235]]\n",
      "Expected theta values (approx)\n",
      "  -3.6303\n",
      "  1.1664\n"
     ]
    }
   ],
   "source": [
    "# Define gradient descent settings\n",
    "iterations = 1500\n",
    "alpha = 0.01\n",
    "\n",
    "theta = np.zeros((2,1))\n",
    "\n",
    "theta, J_history = gradient_descent(X, y, theta, alpha, iterations)\n",
    "\n",
    "print('Theta found by gradient descent:')\n",
    "print(theta)\n",
    "print('Expected theta values (approx)')\n",
    "print('  -3.6303\\n  1.1664')"
   ]
  },
  {
   "cell_type": "code",
   "execution_count": null,
   "id": "eca9fb3a",
   "metadata": {},
   "outputs": [],
   "source": []
  },
  {
   "cell_type": "code",
   "execution_count": null,
   "id": "638ed9ea",
   "metadata": {},
   "outputs": [],
   "source": []
  }
 ],
 "metadata": {
  "kernelspec": {
   "display_name": "Python 3 (ipykernel)",
   "language": "python",
   "name": "python3"
  },
  "language_info": {
   "codemirror_mode": {
    "name": "ipython",
    "version": 3
   },
   "file_extension": ".py",
   "mimetype": "text/x-python",
   "name": "python",
   "nbconvert_exporter": "python",
   "pygments_lexer": "ipython3",
   "version": "3.10.1"
  }
 },
 "nbformat": 4,
 "nbformat_minor": 5
}
